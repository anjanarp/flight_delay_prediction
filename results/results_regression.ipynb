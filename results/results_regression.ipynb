{
 "cells": [
  {
   "cell_type": "code",
   "execution_count": null,
   "metadata": {},
   "outputs": [],
   "source": [
    "import os\n",
    "import csv\n",
    "\n",
    "\n",
    "def evaluate_and_save_classification_results(model_name, y_test, y_pred, output_file=\"regression_results.csv\"):\n",
    "    report = {}\n",
    "    # calculate MSE; the average squared difference between predicted and actual values\n",
    "    mse = mean_squared_error(y_test, y_pred)\n",
    "\n",
    "    # calculate the RMSE; the square root of MSE\n",
    "    # easier to interpret in the same units as the target variable (delay duration in minutes).\n",
    "    rmse = np.sqrt(mse)\n",
    "\n",
    "    # calculate R-squared\n",
    "    # proportion of variance in target variable given by model\n",
    "    # ranges from 0 to 1, with higher values indicating a better fit\n",
    "    r2 = r2_score(y_test, y_pred)\n",
    "\n",
    "    metrics = {\n",
    "        'Model': [model_name],\n",
    "        'MSE': [mse],\n",
    "        'RMSE': [rmse],\n",
    "        'R-squared': [r2]\n",
    "    }\n",
    "    \n",
    "    # convert to dataframe\n",
    "    metrics_df = pd.DataFrame(metrics)\n",
    "    \n",
    "    # append to csv file\n",
    "    if not os.path.isfile(output_file):\n",
    "        metrics_df.to_csv(output_file, index=False)\n",
    "    else:\n",
    "        metrics_df.to_csv(output_file, mode='a', header=False, index=False)\n",
    "\n",
    "\n"
   ]
  }
 ],
 "metadata": {
  "language_info": {
   "name": "python"
  }
 },
 "nbformat": 4,
 "nbformat_minor": 2
}
