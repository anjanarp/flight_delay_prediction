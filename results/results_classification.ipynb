{
 "cells": [
  {
   "cell_type": "code",
   "execution_count": null,
   "metadata": {},
   "outputs": [],
   "source": [
    "import os\n",
    "import csv\n",
    "\n",
    "from sklearn.metrics import f1_score, recall_score\n",
    "\n",
    "\n",
    "def evaluate_and_save_classification_results(model_name, y_test, y_pred, output_file=\"classification_results.csv\"):\n",
    "    accuracy = accuracy_score(y_test, y_pred)\n",
    "    confusion_matrix_result = confusion_matrix(y_test, y_pred)\n",
    "\n",
    "    # extract features from confusion matrix\n",
    "    tn, fp, fn, tp = confusion_matrix_result.ravel()\n",
    "\n",
    "    precision = tp / (tp + fp)\n",
    "\n",
    "    # calculate F1-score and recall directly\n",
    "    f1 = f1_score(y_test, y_pred)\n",
    "    recall = recall_score(y_test, y_pred)\n",
    "\n",
    "    # prepare data for CSV\n",
    "    flattened_report = {\n",
    "        'model_name': model_name,\n",
    "        'Accuracy': accuracy,\n",
    "        'Precision': precision,\n",
    "        'F1-Score': f1,\n",
    "        'Recall': recall,\n",
    "        'True Positives': tp,\n",
    "        'True Negatives': tn,\n",
    "        'False Positives': fp,\n",
    "        'False Negatives': fn,\n",
    "    }\n",
    "\n",
    "    # write data to csv\n",
    "    file_exists = os.path.isfile(output_file)\n",
    "\n",
    "    with open(output_file, mode='a', newline='') as file:\n",
    "        writer = csv.DictWriter(file, fieldnames=flattened_report.keys())\n",
    "        if not file_exists:\n",
    "            writer.writeheader()\n",
    "        writer.writerow(flattened_report)\n",
    "\n",
    "    print(f\"Metrics have been saved to {output_file}\")\n",
    "\n",
    "\n",
    "evaluate_and_save_classification_results(\"Logistic Model\", y_test, y_pred)\n",
    "\n"
   ]
  }
 ],
 "metadata": {
  "language_info": {
   "name": "python"
  }
 },
 "nbformat": 4,
 "nbformat_minor": 2
}
