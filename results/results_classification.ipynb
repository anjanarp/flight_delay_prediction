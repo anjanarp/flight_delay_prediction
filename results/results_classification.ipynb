{
 "cells": [
  {
   "cell_type": "code",
   "execution_count": null,
   "metadata": {},
   "outputs": [],
   "source": [
    "import os\n",
    "import csv\n",
    "\n",
    "def flatten_classification_report(report):\n",
    "    flattened_report = {}\n",
    "    for key, value in report.items():\n",
    "        if isinstance(value, dict):\n",
    "            for sub_key, sub_value in value.items():\n",
    "                flattened_report[f\"{key}_{sub_key}\"] = sub_value\n",
    "        else:\n",
    "            flattened_report[key] = value\n",
    "    return flattened_report\n",
    "\n",
    "def evaluate_and_save_classification_results(model_name, y_test, y_pred, output_file=\"classification_results.csv\"):\n",
    "    confusion_matrix_result = confusion_matrix(y_test, y_pred)\n",
    "    classification_report_result = classification_report(y_test, y_pred, output_dict=True)\n",
    "\n",
    "    \n",
    "    # extract features from confusion matrix\n",
    "    tn, fp, fn, tp = confusion_matrix_result.ravel()\n",
    "    \n",
    "    # flatten the classification report\n",
    "    flattened_report = flatten_classification_report(classification_report_result)\n",
    "    \n",
    "    # add confusion matrix metrics to the flattened report\n",
    "    flattened_report['confusion_matrix_tn'] = tn\n",
    "    flattened_report['confusion_matrix_fp'] = fp\n",
    "    flattened_report['confusion_matrix_fn'] = fn\n",
    "    flattened_report['confusion_matrix_tp'] = tp\n",
    "    \n",
    "    # include the model name as a feature\n",
    "    flattened_report = {'model_name': model_name, **flattened_report}\n",
    "\n",
    "    # write the flattened data to a csv file\n",
    "    file_exists = os.path.isfile(output_file)\n",
    "    \n",
    "    with open(output_file, mode='a', newline='') as file:\n",
    "        writer = csv.DictWriter(file, fieldnames=flattened_report.keys())\n",
    "        # write the header only if the file does not exist\n",
    "        if not file_exists:\n",
    "            writer.writeheader()\n",
    "        # write the data\n",
    "        writer.writerow(flattened_report)\n",
    "\n",
    "    print(f\"Metrics have been saved to {output_file}\")\n",
    "    \n",
    "evaluate_and_save_classification_results(\"Model\", y_test, y_pred)\n"
   ]
  }
 ],
 "metadata": {
  "language_info": {
   "name": "python"
  }
 },
 "nbformat": 4,
 "nbformat_minor": 2
}
