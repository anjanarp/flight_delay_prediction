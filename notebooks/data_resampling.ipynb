{
 "cells": [
  {
   "cell_type": "code",
   "execution_count": 6,
   "metadata": {},
   "outputs": [
    {
     "name": "stdout",
     "output_type": "stream",
     "text": [
      "Requirement already satisfied: imblearn in /Library/Frameworks/Python.framework/Versions/3.12/lib/python3.12/site-packages (0.0)\n",
      "Requirement already satisfied: imbalanced-learn in /Library/Frameworks/Python.framework/Versions/3.12/lib/python3.12/site-packages (from imblearn) (0.12.3)\n",
      "Requirement already satisfied: numpy>=1.17.3 in /Library/Frameworks/Python.framework/Versions/3.12/lib/python3.12/site-packages (from imbalanced-learn->imblearn) (2.0.0)\n",
      "Requirement already satisfied: scipy>=1.5.0 in /Library/Frameworks/Python.framework/Versions/3.12/lib/python3.12/site-packages (from imbalanced-learn->imblearn) (1.13.1)\n",
      "Requirement already satisfied: scikit-learn>=1.0.2 in /Library/Frameworks/Python.framework/Versions/3.12/lib/python3.12/site-packages (from imbalanced-learn->imblearn) (1.5.0)\n",
      "Requirement already satisfied: joblib>=1.1.1 in /Library/Frameworks/Python.framework/Versions/3.12/lib/python3.12/site-packages (from imbalanced-learn->imblearn) (1.4.2)\n",
      "Requirement already satisfied: threadpoolctl>=2.0.0 in /Library/Frameworks/Python.framework/Versions/3.12/lib/python3.12/site-packages (from imbalanced-learn->imblearn) (3.5.0)\n",
      "Note: you may need to restart the kernel to use updated packages.\n",
      "Requirement already satisfied: scikit-learn in /Library/Frameworks/Python.framework/Versions/3.12/lib/python3.12/site-packages (1.5.0)\n",
      "Requirement already satisfied: numpy>=1.19.5 in /Library/Frameworks/Python.framework/Versions/3.12/lib/python3.12/site-packages (from scikit-learn) (2.0.0)\n",
      "Requirement already satisfied: scipy>=1.6.0 in /Library/Frameworks/Python.framework/Versions/3.12/lib/python3.12/site-packages (from scikit-learn) (1.13.1)\n",
      "Requirement already satisfied: joblib>=1.2.0 in /Library/Frameworks/Python.framework/Versions/3.12/lib/python3.12/site-packages (from scikit-learn) (1.4.2)\n",
      "Requirement already satisfied: threadpoolctl>=3.1.0 in /Library/Frameworks/Python.framework/Versions/3.12/lib/python3.12/site-packages (from scikit-learn) (3.5.0)\n",
      "Note: you may need to restart the kernel to use updated packages.\n"
     ]
    }
   ],
   "source": [
    "%pip install imblearn\n",
    "%pip install scikit-learn"
   ]
  },
  {
   "cell_type": "code",
   "execution_count": 7,
   "metadata": {},
   "outputs": [],
   "source": [
    "from imblearn.over_sampling import SMOTE\n",
    "from sklearn.model_selection import train_test_split\n",
    "import pandas as pd\n",
    "import os"
   ]
  },
  {
   "cell_type": "code",
   "execution_count": 8,
   "metadata": {},
   "outputs": [],
   "source": [
    "file_path = r\"/Users/anjanapro/Desktop/machine learning/flight_delay_prediction/notebooks/merged_data_with_labels.csv\"\n",
    "df = pd.read_csv(file_path)"
   ]
  },
  {
   "cell_type": "code",
   "execution_count": 9,
   "metadata": {},
   "outputs": [
    {
     "name": "stdout",
     "output_type": "stream",
     "text": [
      "ArrDel15\n",
      "0.0    1463378\n",
      "1.0     388058\n",
      "Name: count, dtype: int64\n"
     ]
    }
   ],
   "source": [
    "# get class value counts to see if the data set is imbalanced\n",
    "class_counts = df['ArrDel15'].value_counts()\n",
    "\n",
    "# print the counts \n",
    "print(class_counts)"
   ]
  },
  {
   "cell_type": "code",
   "execution_count": 10,
   "metadata": {},
   "outputs": [],
   "source": [
    "# assuming 'ArrDel15' is the target variable\n",
    "# X = df.drop('ArrDel15', axis=1) \n",
    "# y = df['ArrDel15']  \n",
    "\n",
    "# make a list of the desired columns in the data frame with a normal or skewed distribution from EDA\n",
    "desired_columns_clf = [\"windspeedKmph\", \"winddirDegree\", \"precipMM\", \"visibility\", \"pressure\", \"cloudcover\", \"DewPointF\", \"WindGustKmph\", \"tempF\", \"WindChillF\", \"humidity\", \"DepDelayMinutes\", \"ArrDelayMinutes\", \"ArrDel15\"]\n",
    "\n",
    "# filter the data frame with only the filtered columns by dropping the unrequired columns\n",
    "df_filtered = df.drop(columns=list(set(df.columns) - set(desired_columns_clf)))\n",
    "\n",
    "# split the data into training and testing sets \n",
    "X_train, X_test, y_train, y_test = train_test_split(df_filtered.drop(\"ArrDel15\", axis=1), df_filtered[\"ArrDel15\"], test_size=0.2, random_state=42)\n",
    "\n",
    "# define and fit the SMOTE oversampler for classifier\n",
    "smote = SMOTE(random_state=42)\n",
    "X_resampled, y_resampled_clf = smote.fit_resample(X_train, y_train)\n",
    "\n",
    "# drop the ArrDelayMinutes column from the Classification feature training set \n",
    "X_resampled_filter = X_resampled.drop('ArrDelayMinutes', axis=1) \n",
    "# Store that ArrDelayMinutes column so that there is a y_train of resampled data for the regression models later\n",
    "y_train_reg = X_resampled[\"ArrDelayMinutes\"]\n",
    "\n",
    "# drop the ArrDelayMinutes column from the Classification feature testing set \n",
    "X_test_filter = X_test.drop('ArrDelayMinutes', axis=1) \n",
    "# Store that ArrDelayMinutes column so that there is a y_test of resampled data for the regression models later\n",
    "y_test_reg = X_test[\"ArrDelayMinutes\"]\n",
    "\n",
    "clf_train_data = pd.concat([X_resampled_filter, y_resampled_clf], axis=1)\n",
    "clf_test_data = pd.concat([X_test_filter, y_test], axis=1)\n",
    "\n",
    "clf_train_data.to_csv('clf_train_data.csv', index=False)\n",
    "clf_test_data.to_csv('clf_test_data.csv', index=False)\n",
    "\n",
    "reg_train_data = pd.concat([X_resampled_filter, y_train_reg], axis=1)\n",
    "reg_test_data = pd.concat([X_test_filter, y_test_reg], axis=1)\n",
    "\n",
    "reg_train_data.to_csv('reg_train_data.csv', index=False)\n",
    "reg_test_data.to_csv('reg_test_data.csv', index=False)\n"
   ]
  }
 ],
 "metadata": {
  "kernelspec": {
   "display_name": "Python 3",
   "language": "python",
   "name": "python3"
  },
  "language_info": {
   "codemirror_mode": {
    "name": "ipython",
    "version": 3
   },
   "file_extension": ".py",
   "mimetype": "text/x-python",
   "name": "python",
   "nbconvert_exporter": "python",
   "pygments_lexer": "ipython3",
   "version": "3.12.4"
  }
 },
 "nbformat": 4,
 "nbformat_minor": 2
}
