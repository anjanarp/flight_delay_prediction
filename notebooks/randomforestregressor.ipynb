{
 "cells": [
  {
   "cell_type": "code",
   "execution_count": 1,
   "metadata": {},
   "outputs": [],
   "source": [
    "import pandas as pd\n",
    "from sklearn.model_selection import train_test_split\n",
    "from sklearn.ensemble import RandomForestRegressor\n",
    "import matplotlib.pyplot as plt\n",
    "from sklearn import tree\n",
    "from sklearn.metrics import mean_squared_error, r2_score\n",
    "import numpy as np\n",
    "\n"
   ]
  },
  {
   "cell_type": "code",
   "execution_count": 2,
   "metadata": {},
   "outputs": [],
   "source": [
    "# loading the data from the csv file into a data frame\n",
    "file_path = r\"C:\\Users\\raaja\\OneDrive\\Documents\\maichu development\\notebooks\\merged_data_with_labels.csv\"\n",
    "df = pd.read_csv(file_path)\n",
    "\n",
    "desired_columns = [\"windspeedKmph\", \"winddirDegree\", \"precipMM\", \"visibility\", \"pressure\", \"cloudcover\", \"DewPointF\", \"WindGustKmph\", \"tempF\", \"WindChillF\", \"humidity\", \"DepDelayMinutes\", \"ArrDelayMinutes\"]\n",
    "\n",
    "df = df.drop(columns=list(set(df.columns) - set(desired_columns)))\n",
    "\n",
    "# split the data into training and testing sets\n",
    "X_train, X_test, y_train, y_test = train_test_split(df.drop(\"ArrDelayMinutes\", axis=1), df[\"ArrDelayMinutes\"], test_size=0.2, random_state=42)\n",
    "\n",
    "# train a linear regressive model\n",
    "model = RandomForestRegressor()\n",
    " \n",
    "# train the classifier\n",
    "model.fit(X_train, y_train)\n",
    " \n",
    "# make predictions on the test set\n",
    "y_pred = model.predict(X_test)\n",
    " "
   ]
  },
  {
   "cell_type": "code",
   "execution_count": 3,
   "metadata": {},
   "outputs": [
    {
     "name": "stdout",
     "output_type": "stream",
     "text": [
      "Mean Squared Error (MSE): 116.52533802862578\n",
      "Root Mean Squared Error (RMSE): 10.794690270157165\n",
      "R-squared: 0.9325557128677803\n"
     ]
    }
   ],
   "source": [
    "# calculate MSE; the average squared difference between predicted and actual values\n",
    "mse = mean_squared_error(y_test, y_pred)\n",
    "\n",
    "# calculate the RMSE; the square root of MSE\n",
    "# easier to interpret in the same units as the target variable (delay duration in minutes).\n",
    "rmse = np.sqrt(mse)\n",
    "\n",
    "\n",
    "\n",
    "# calculate R-squared\n",
    "# proportion of variance in target variable given by model\n",
    "# ranges from 0 to 1, with higher values indicating a better fit\n",
    "r2 = r2_score(y_test, y_pred)\n",
    "\n",
    "# print the metrics\n",
    "print(\"Mean Squared Error (MSE):\", mse)\n",
    "print(\"Root Mean Squared Error (RMSE):\", rmse)\n",
    "print(\"R-squared:\", r2)\n"
   ]
  }
 ],
 "metadata": {
  "kernelspec": {
   "display_name": "anjana_env",
   "language": "python",
   "name": "python3"
  },
  "language_info": {
   "codemirror_mode": {
    "name": "ipython",
    "version": 3
   },
   "file_extension": ".py",
   "mimetype": "text/x-python",
   "name": "python",
   "nbconvert_exporter": "python",
   "pygments_lexer": "ipython3",
   "version": "3.12.3"
  }
 },
 "nbformat": 4,
 "nbformat_minor": 2
}
