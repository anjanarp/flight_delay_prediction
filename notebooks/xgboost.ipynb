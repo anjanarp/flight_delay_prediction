{
 "cells": [
  {
   "cell_type": "code",
   "execution_count": 2,
   "metadata": {},
   "outputs": [],
   "source": [
    "import pandas as pd\n",
    "from sklearn.model_selection import train_test_split\n",
    "from sklearn.ensemble import GradientBoostingClassifier\n",
    "from sklearn.metrics import accuracy_score, precision_score, confusion_matrix, classification_report\n",
    "import matplotlib.pyplot as plt\n",
    "from sklearn import tree\n"
   ]
  },
  {
   "cell_type": "code",
   "execution_count": 3,
   "metadata": {},
   "outputs": [],
   "source": [
    "# loading the data from the csv file into a data frame\n",
    "file_path = r\"C:\\Users\\raaja\\OneDrive\\Documents\\maichu development\\notebooks\\merged_data_with_labels.csv\"\n",
    "df = pd.read_csv(file_path)\n",
    "\n",
    "desired_columns = [\"windspeedKmph\", \"winddirDegree\", \"precipMM\", \"visibility\", \"pressure\", \"cloudcover\", \"DewPointF\", \"WindGustKmph\", \"tempF\", \"WindChillF\", \"humidity\", \"DepDelayMinutes\", \"IsDelayed\"]\n",
    "\n",
    "\n",
    "desired_columns = [\"windspeedKmph\", \"winddirDegree\", \"precipMM\", \"visibility\", \"pressure\", \"cloudcover\", \"DewPointF\", \"WindGustKmph\", \"tempF\", \"WindChillF\", \"humidity\", \"DepDelayMinutes\", \"IsDelayed\"]\n",
    "\n",
    "df = df.drop(columns=list(set(df.columns) - set(desired_columns)))\n",
    "\n",
    "# split the data into training and testing sets\n",
    "X_train, X_test, y_train, y_test = train_test_split(df.drop(\"IsDelayed\", axis=1), df[\"IsDelayed\"], test_size=0.2, random_state=42)\n",
    "\n",
    "clf = GradientBoostingClassifier(n_estimators=100, learning_rate=1.0,\n",
    "    max_depth=1, random_state=0).fit(X_train, y_train)\n",
    " \n"
   ]
  },
  {
   "cell_type": "code",
   "execution_count": 4,
   "metadata": {},
   "outputs": [
    {
     "data": {
      "text/plain": [
       "0.8120949099079635"
      ]
     },
     "execution_count": 4,
     "metadata": {},
     "output_type": "execute_result"
    }
   ],
   "source": [
    "\n",
    "clf.score(X_test, y_test)"
   ]
  },
  {
   "cell_type": "code",
   "execution_count": 5,
   "metadata": {},
   "outputs": [
    {
     "name": "stdout",
     "output_type": "stream",
     "text": [
      "Accuracy: 0.81\n",
      "\n",
      "Confusion Matric:\n",
      " [[ 82515  57203]\n",
      " [ 12376 218194]]\n",
      "\n",
      "Classification Report:\n",
      "               precision    recall  f1-score   support\n",
      "\n",
      "     Delayed       0.87      0.59      0.70    139718\n",
      " Not Delayed       0.79      0.95      0.86    230570\n",
      "\n",
      "    accuracy                           0.81    370288\n",
      "   macro avg       0.83      0.77      0.78    370288\n",
      "weighted avg       0.82      0.81      0.80    370288\n",
      "\n"
     ]
    }
   ],
   "source": [
    "# make predictions on the test set\n",
    "y_pred = clf.predict(X_test)\n",
    " \n",
    "# Evaluate the model\n",
    "accuracy = accuracy_score(y_test, y_pred)\n",
    "confusion_m = confusion_matrix(y_test, y_pred)\n",
    "classification_rep = classification_report(y_test, y_pred)\n",
    " \n",
    "# Print the results\n",
    "print(f\"Accuracy: {accuracy:.2f}\")\n",
    "print(\"\\nConfusion Matric:\\n\", confusion_m)\n",
    "print(\"\\nClassification Report:\\n\", classification_rep)"
   ]
  },
  {
   "cell_type": "code",
   "execution_count": 6,
   "metadata": {},
   "outputs": [
    {
     "name": "stdout",
     "output_type": "stream",
     "text": [
      "Metrics have been saved to classification_results.csv\n"
     ]
    }
   ],
   "source": [
    "import os\n",
    "import csv\n",
    "\n",
    "def flatten_classification_report(report):\n",
    "    flattened_report = {}\n",
    "    for key, value in report.items():\n",
    "        if isinstance(value, dict):\n",
    "            for sub_key, sub_value in value.items():\n",
    "                flattened_report[f\"{key}_{sub_key}\"] = sub_value\n",
    "        else:\n",
    "            flattened_report[key] = value\n",
    "    return flattened_report\n",
    "\n",
    "def evaluate_and_save_classification_results(model_name, y_test, y_pred, output_file=\"classification_results.csv\"):\n",
    "    confusion_matrix_result = confusion_matrix(y_test, y_pred)\n",
    "    classification_report_result = classification_report(y_test, y_pred, output_dict=True)\n",
    "\n",
    "    \n",
    "    # extract features from confusion matrix\n",
    "    tn, fp, fn, tp = confusion_matrix_result.ravel()\n",
    "    \n",
    "    # flatten the classification report\n",
    "    flattened_report = flatten_classification_report(classification_report_result)\n",
    "    \n",
    "    # add confusion matrix metrics to the flattened report\n",
    "    flattened_report['confusion_matrix_tn'] = tn\n",
    "    flattened_report['confusion_matrix_fp'] = fp\n",
    "    flattened_report['confusion_matrix_fn'] = fn\n",
    "    flattened_report['confusion_matrix_tp'] = tp\n",
    "    \n",
    "    # include the model name as a feature\n",
    "    flattened_report = {'model_name': model_name, **flattened_report}\n",
    "\n",
    "    # write the flattened data to a csv file\n",
    "    file_exists = os.path.isfile(output_file)\n",
    "    \n",
    "    with open(output_file, mode='a', newline='') as file:\n",
    "        writer = csv.DictWriter(file, fieldnames=flattened_report.keys())\n",
    "        # write the header only if the file does not exist\n",
    "        if not file_exists:\n",
    "            writer.writeheader()\n",
    "        # write the data\n",
    "        writer.writerow(flattened_report)\n",
    "\n",
    "    print(f\"Metrics have been saved to {output_file}\")\n",
    "    \n",
    "evaluate_and_save_classification_results(\"XGBoost\", y_test, y_pred)\n"
   ]
  }
 ],
 "metadata": {
  "kernelspec": {
   "display_name": "anjana_env",
   "language": "python",
   "name": "python3"
  },
  "language_info": {
   "codemirror_mode": {
    "name": "ipython",
    "version": 3
   },
   "file_extension": ".py",
   "mimetype": "text/x-python",
   "name": "python",
   "nbconvert_exporter": "python",
   "pygments_lexer": "ipython3",
   "version": "3.12.3"
  }
 },
 "nbformat": 4,
 "nbformat_minor": 2
}
