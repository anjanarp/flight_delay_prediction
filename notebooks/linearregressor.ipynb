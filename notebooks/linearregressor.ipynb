{
 "cells": [
  {
   "cell_type": "code",
   "execution_count": 1,
   "metadata": {},
   "outputs": [],
   "source": [
    "import pandas as pd\n",
    "from sklearn.model_selection import train_test_split\n",
    "from sklearn.linear_model import LinearRegression\n",
    "import matplotlib.pyplot as plt\n",
    "from sklearn import tree\n",
    "from sklearn.metrics import mean_squared_error, r2_score\n",
    "import numpy as np\n",
    "\n"
   ]
  },
  {
   "cell_type": "code",
   "execution_count": 2,
   "metadata": {},
   "outputs": [],
   "source": [
    "# read the file from a filepath to its csv into a dataframe\n",
    "file_path_train = r\"/Users/anjanapro/Desktop/machine learning/flight_delay_prediction/notebooks/reg_train_data.csv\"\n",
    "file_path_test = r\"/Users/anjanapro/Desktop/machine learning/flight_delay_prediction/notebooks/reg_test_data.csv\"\n",
    "df_train = pd.read_csv(file_path_train)\n",
    "df_test = pd.read_csv(file_path_test)\n",
    "\n",
    "# assuming 'ArrDelMinutes' is the target variable\n",
    "X_train = df_train.drop('ArrDelayMinutes', axis=1) \n",
    "y_train = df_train['ArrDelayMinutes']  \n",
    "\n",
    "X_test = df_test.drop('ArrDelayMinutes', axis=1) \n",
    "y_test = df_test['ArrDelayMinutes'] \n",
    "\n",
    "# train a linear regressive model\n",
    "model = LinearRegression()\n",
    " \n",
    "# train the classifier\n",
    "model.fit(X_train, y_train)\n",
    " \n",
    "# make predictions on the test set\n",
    "y_pred = model.predict(X_test)\n",
    " "
   ]
  },
  {
   "cell_type": "code",
   "execution_count": 3,
   "metadata": {},
   "outputs": [
    {
     "name": "stdout",
     "output_type": "stream",
     "text": [
      "Mean Squared Error (MSE): 122.8242436305931\n",
      "Root Mean Squared Error (RMSE): 11.08260996474175\n",
      "R-squared: 0.9289099375778302\n"
     ]
    }
   ],
   "source": [
    "# calculate MSE; the average squared difference between predicted and actual values\n",
    "mse = mean_squared_error(y_test, y_pred)\n",
    "\n",
    "# calculate the RMSE; the square root of MSE\n",
    "# easier to interpret in the same units as the target variable (delay duration in minutes).\n",
    "rmse = np.sqrt(mse)\n",
    "\n",
    "\n",
    "\n",
    "# calculate R-squared\n",
    "# proportion of variance in target variable given by model\n",
    "# ranges from 0 to 1, with higher values indicating a better fit\n",
    "\n",
    "\n",
    "r2 = r2_score(y_test, y_pred)\n",
    "\n",
    "# print the metrics\n",
    "print(\"Mean Squared Error (MSE):\", mse)\n",
    "print(\"Root Mean Squared Error (RMSE):\", rmse)\n",
    "print(\"R-squared:\", r2)\n"
   ]
  }
 ],
 "metadata": {
  "kernelspec": {
   "display_name": "anjana_env",
   "language": "python",
   "name": "python3"
  },
  "language_info": {
   "codemirror_mode": {
    "name": "ipython",
    "version": 3
   },
   "file_extension": ".py",
   "mimetype": "text/x-python",
   "name": "python",
   "nbconvert_exporter": "python",
   "pygments_lexer": "ipython3",
   "version": "3.12.4"
  }
 },
 "nbformat": 4,
 "nbformat_minor": 2
}
