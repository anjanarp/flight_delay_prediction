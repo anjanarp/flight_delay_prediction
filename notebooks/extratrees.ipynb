{
 "cells": [
  {
   "cell_type": "code",
   "execution_count": 6,
   "metadata": {},
   "outputs": [],
   "source": [
    "import pandas as pd\n",
    "from sklearn.model_selection import train_test_split\n",
    "from sklearn.ensemble import ExtraTreesClassifier\n",
    "from sklearn.metrics import accuracy_score, precision_score, confusion_matrix, classification_report\n",
    "import matplotlib.pyplot as plt\n",
    "from sklearn import tree\n"
   ]
  },
  {
   "cell_type": "code",
   "execution_count": 2,
   "metadata": {},
   "outputs": [
    {
     "name": "stdout",
     "output_type": "stream",
     "text": [
      "Accuracy: 0.78\n",
      "\n",
      "Confusion Matric:\n",
      " [[ 90730  48988]\n",
      " [ 33025 197545]]\n",
      "\n",
      "Classification Report:\n",
      "               precision    recall  f1-score   support\n",
      "\n",
      "     Delayed       0.73      0.65      0.69    139718\n",
      " Not Delayed       0.80      0.86      0.83    230570\n",
      "\n",
      "    accuracy                           0.78    370288\n",
      "   macro avg       0.77      0.75      0.76    370288\n",
      "weighted avg       0.78      0.78      0.78    370288\n",
      "\n"
     ]
    }
   ],
   "source": [
    "# loading the data from the csv file into a data frame\n",
    "file_path = r\"C:\\Users\\raaja\\OneDrive\\Documents\\maichu development\\notebooks\\merged_data_with_labels.csv\"\n",
    "df = pd.read_csv(file_path)\n",
    "\n",
    "desired_columns = [\"windspeedKmph\", \"winddirDegree\", \"precipMM\", \"visibility\", \"pressure\", \"cloudcover\", \"DewPointF\", \"WindGustKmph\", \"tempF\", \"WindChillF\", \"humidity\", \"DepDelayMinutes\", \"IsDelayed\"]\n",
    "\n",
    "df = df.drop(columns=list(set(df.columns) - set(desired_columns)))\n",
    "\n",
    "# split the data into training and testing sets\n",
    "X_train, X_test, y_train, y_test = train_test_split(df.drop(\"IsDelayed\", axis=1), df[\"IsDelayed\"], test_size=0.2, random_state=42)\n",
    "\n",
    "extrat_classifier = ExtraTreesClassifier(n_estimators=100, random_state=42)\n",
    " \n",
    "# train the classifier\n",
    "extrat_classifier.fit(X_train, y_train)\n",
    " \n",
    "# make predictions on the test set\n",
    "y_pred = extrat_classifier.predict(X_test)\n",
    " \n",
    "# evaluate the model\n",
    "accuracy = accuracy_score(y_test, y_pred)\n",
    "confusion_m = confusion_matrix(y_test, y_pred)\n",
    "classification_rep = classification_report(y_test, y_pred)\n",
    " \n",
    "print(f\"Accuracy: {accuracy:.2f}\")\n",
    "print(\"\\nConfusion Matric:\\n\", confusion_m)\n",
    "print(\"\\nClassification Report:\\n\", classification_rep)"
   ]
  }
 ],
 "metadata": {
  "kernelspec": {
   "display_name": "anjana_env",
   "language": "python",
   "name": "python3"
  },
  "language_info": {
   "codemirror_mode": {
    "name": "ipython",
    "version": 3
   },
   "file_extension": ".py",
   "mimetype": "text/x-python",
   "name": "python",
   "nbconvert_exporter": "python",
   "pygments_lexer": "ipython3",
   "version": "3.12.3"
  }
 },
 "nbformat": 4,
 "nbformat_minor": 2
}
