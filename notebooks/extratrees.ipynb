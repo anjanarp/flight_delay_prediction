{
 "cells": [
  {
   "cell_type": "code",
   "execution_count": 2,
   "metadata": {},
   "outputs": [],
   "source": [
    "import pandas as pd\n",
    "from sklearn.model_selection import train_test_split\n",
    "from sklearn.ensemble import ExtraTreesClassifier\n",
    "from sklearn.metrics import accuracy_score, precision_score, confusion_matrix, classification_report\n",
    "import matplotlib.pyplot as plt\n",
    "from sklearn import tree\n"
   ]
  },
  {
   "cell_type": "code",
   "execution_count": 3,
   "metadata": {},
   "outputs": [
    {
     "name": "stdout",
     "output_type": "stream",
     "text": [
      "Accuracy: 0.90\n",
      "\n",
      "Confusion Matric:\n",
      " [[277212  15702]\n",
      " [ 21290  56084]]\n",
      "\n",
      "Classification Report:\n",
      "               precision    recall  f1-score   support\n",
      "\n",
      "         0.0       0.93      0.95      0.94    292914\n",
      "         1.0       0.78      0.72      0.75     77374\n",
      "\n",
      "    accuracy                           0.90    370288\n",
      "   macro avg       0.85      0.84      0.84    370288\n",
      "weighted avg       0.90      0.90      0.90    370288\n",
      "\n"
     ]
    }
   ],
   "source": [
    "# read the file from a filepath to its csv into a dataframe\n",
    "file_path_train = r\"/Users/anjanapro/Desktop/machine learning/flight_delay_prediction/notebooks/clf_train_data.csv\"\n",
    "file_path_test = r\"/Users/anjanapro/Desktop/machine learning/flight_delay_prediction/notebooks/clf_test_data.csv\"\n",
    "df_train = pd.read_csv(file_path_train)\n",
    "df_test = pd.read_csv(file_path_test)\n",
    "\n",
    "# assuming 'ArrDel15' is the target variable\n",
    "X_train = df_train.drop('ArrDel15', axis=1) \n",
    "y_train = df_train['ArrDel15']  \n",
    "\n",
    "X_test = df_test.drop('ArrDel15', axis=1) \n",
    "y_test = df_test['ArrDel15']  \n",
    "\n",
    "extrat_classifier = ExtraTreesClassifier(n_estimators=100, random_state=42)\n",
    " \n",
    "# train the classifier\n",
    "extrat_classifier.fit(X_train, y_train)\n",
    " \n",
    "# make predictions on the test set\n",
    "y_pred = extrat_classifier.predict(X_test)\n",
    " \n",
    "# evaluate the model\n",
    "accuracy = accuracy_score(y_test, y_pred)\n",
    "confusion_m = confusion_matrix(y_test, y_pred)\n",
    "classification_rep = classification_report(y_test, y_pred)\n",
    " \n",
    "print(f\"Accuracy: {accuracy:.2f}\")\n",
    "print(\"\\nConfusion Matric:\\n\", confusion_m)\n",
    "print(\"\\nClassification Report:\\n\", classification_rep)"
   ]
  }
 ],
 "metadata": {
  "kernelspec": {
   "display_name": "anjana_env",
   "language": "python",
   "name": "python3"
  },
  "language_info": {
   "codemirror_mode": {
    "name": "ipython",
    "version": 3
   },
   "file_extension": ".py",
   "mimetype": "text/x-python",
   "name": "python",
   "nbconvert_exporter": "python",
   "pygments_lexer": "ipython3",
   "version": "3.12.4"
  }
 },
 "nbformat": 4,
 "nbformat_minor": 2
}
